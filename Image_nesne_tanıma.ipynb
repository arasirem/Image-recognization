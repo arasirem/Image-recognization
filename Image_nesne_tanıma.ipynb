{
  "cells": [
    {
      "cell_type": "markdown",
      "metadata": {
        "id": "view-in-github",
        "colab_type": "text"
      },
      "source": [
        "<a href=\"https://colab.research.google.com/github/arasirem/Image-recognization/blob/main/Image_nesne_tan%C4%B1ma.ipynb\" target=\"_parent\"><img src=\"https://colab.research.google.com/assets/colab-badge.svg\" alt=\"Open In Colab\"/></a>"
      ]
    },
    {
      "cell_type": "code",
      "execution_count": null,
      "metadata": {
        "id": "EOFGq6afv0SP",
        "colab": {
          "base_uri": "https://localhost:8080/"
        },
        "outputId": "54572304-aede-4b49-d0dd-3a42ebcc7767"
      },
      "outputs": [
        {
          "output_type": "stream",
          "name": "stdout",
          "text": [
            "Downloading data from https://www.cs.toronto.edu/~kriz/cifar-10-python.tar.gz\n",
            "170498071/170498071 [==============================] - 3s 0us/step\n"
          ]
        }
      ],
      "source": [
        "import tensorflow as tf\n",
        "from tensorflow.keras import datasets, layers, models\n",
        "import pandas as pd\n",
        "import numpy as np\n",
        "import matplotlib.pyplot as plt\n",
        "\n",
        "(X_train, y_train), (X_test,y_test) = datasets.cifar10.load_data()"
      ]
    },
    {
      "cell_type": "code",
      "execution_count": null,
      "metadata": {
        "id": "lEIimJvoy2_x",
        "colab": {
          "base_uri": "https://localhost:8080/"
        },
        "outputId": "ad8f8f76-5849-4cd0-b581-e61f15b623d5"
      },
      "outputs": [
        {
          "output_type": "execute_result",
          "data": {
            "text/plain": [
              "(10000, 32, 32, 3)"
            ]
          },
          "metadata": {},
          "execution_count": 46
        }
      ],
      "source": [
        "X_test.shape"
      ]
    },
    {
      "cell_type": "code",
      "execution_count": null,
      "metadata": {
        "id": "lr6HlAuLy393",
        "colab": {
          "base_uri": "https://localhost:8080/"
        },
        "outputId": "3acbc22c-3eff-40d6-f4b1-75493d7db348"
      },
      "outputs": [
        {
          "output_type": "execute_result",
          "data": {
            "text/plain": [
              "array([[6],\n",
              "       [9],\n",
              "       [9]], dtype=uint8)"
            ]
          },
          "metadata": {},
          "execution_count": 47
        }
      ],
      "source": [
        "y_train[:3]"
      ]
    },
    {
      "cell_type": "code",
      "execution_count": null,
      "metadata": {
        "id": "aGLHABmmzRGl"
      },
      "outputs": [],
      "source": [
        "#y_train ve y_test cifar10 verisetinde 2 boyutlu bir array. Görsel olarak daha rahat anlamak için tek boyutlu hale getir\n",
        "#2 boyutlu bir arrayi (bir boyutunda veri var diğer boyutu boş olan tabi) tekboyutlu hale geitrmek için reshape() kullanıyoruz..\n",
        "y_test = y_test.reshape(-1,)"
      ]
    },
    {
      "cell_type": "code",
      "execution_count": null,
      "metadata": {
        "id": "jZWe8cuuzlfa",
        "colab": {
          "base_uri": "https://localhost:8080/",
          "height": 237
        },
        "outputId": "4ac94c28-83f0-4be6-e25a-302e6c09a575"
      },
      "outputs": [
        {
          "output_type": "display_data",
          "data": {
            "text/plain": [
              "<Figure size 1500x200 with 1 Axes>"
            ],
            "image/png": "[encoded data removed]"
          },
          "metadata": {}
        }
      ],
      "source": [
        "image_class = [\"airplane\",\"automobile\",\"bird\",\"cat\",\"deer\",\"dog\",\"frog\",\"horse\",\"ship\",\"truck\"]\n",
        "\n",
        "def plot_sample(X, y, index):\n",
        "    plt.figure(figsize = (15,2))\n",
        "    plt.imshow(X[index])\n",
        "    plt.xlabel(image_class[y[index]])\n",
        "    plt.show()\n",
        "plot_sample(X_test, y_test, 10)\n"
      ]
    },
    {
      "cell_type": "code",
      "execution_count": null,
      "metadata": {
        "id": "SDi1z4BI80Vo",
        "colab": {
          "base_uri": "https://localhost:8080/"
        },
        "outputId": "d1bfea45-7470-4bfc-f308-ace3e0dcd7dd"
      },
      "outputs": [
        {
          "output_type": "stream",
          "name": "stdout",
          "text": [
            "Epoch 1/10\n",
            "1563/1563 [==============================] - 56s 35ms/step - loss: 1.5060 - accuracy: 0.4584\n",
            "Epoch 2/10\n",
            "1563/1563 [==============================] - 53s 34ms/step - loss: 1.1663 - accuracy: 0.5890\n",
            "Epoch 3/10\n",
            "1563/1563 [==============================] - 52s 34ms/step - loss: 1.0250 - accuracy: 0.6413\n",
            "Epoch 4/10\n",
            "1563/1563 [==============================] - 52s 33ms/step - loss: 0.9414 - accuracy: 0.6707\n",
            "Epoch 5/10\n",
            "1563/1563 [==============================] - 53s 34ms/step - loss: 0.8769 - accuracy: 0.6935\n",
            "Epoch 6/10\n",
            "1563/1563 [==============================] - 52s 33ms/step - loss: 0.8230 - accuracy: 0.7132\n",
            "Epoch 7/10\n",
            "1563/1563 [==============================] - 52s 34ms/step - loss: 0.7778 - accuracy: 0.7286\n",
            "Epoch 8/10\n",
            "1563/1563 [==============================] - 52s 33ms/step - loss: 0.7355 - accuracy: 0.7449\n",
            "Epoch 9/10\n",
            "1563/1563 [==============================] - 53s 34ms/step - loss: 0.7042 - accuracy: 0.7533\n",
            "Epoch 10/10\n",
            "1563/1563 [==============================] - 53s 34ms/step - loss: 0.6672 - accuracy: 0.7664\n",
            "313/313 [==============================] - 3s 9ms/step - loss: 0.9314 - accuracy: 0.6916\n",
            "Test accuracy: 0.6916000247001648\n"
          ]
        }
      ],
      "source": [
        "#Normalization\n",
        "#Fotoğraflar RGB olarak 3 kanal ve her bir pixel 0-255 arasında değer aldığı için normalization için basitçe her bir pixel değerini 255'e bölmek yeterli..\n",
        "\n",
        "X_train = X_train / 255.0\n",
        "X_test = X_test / 255.0\n",
        "\n",
        "#Deep Learning Algoritmamızı CNN - Convolutional Neural Network Kullanarak Tasarlıyoruz:\n",
        "\n",
        "deep_learning_model = models.Sequential([\n",
        "    # 1. bölüm Convolution layer.. Bu kısımda fotoğraflardan tanımlama yapabilmek için özellikleri çıkarıyoruz...\n",
        "    layers.Conv2D(filters=32, kernel_size=(3, 3), activation='relu', input_shape=(32, 32, 3)),\n",
        "    layers.MaxPooling2D((2, 2)),\n",
        "\n",
        "    layers.Conv2D(filters=64, kernel_size=(3, 3), activation='relu'),\n",
        "    layers.MaxPooling2D((2, 2)),\n",
        "\n",
        "    # 2. bölüm klasik Articial Neural Network olan layerımız.. Yukarıdaki özelliklerimiz ve training bilgilerine göre ANN modelimizi eğiteceğiz..\n",
        "    layers.Flatten(),\n",
        "    layers.Dense(64, activation='relu'),\n",
        "    layers.Dense(10, activation='softmax')\n",
        "])\n",
        "deep_learning_model.compile(optimizer='adam',\n",
        "              loss='sparse_categorical_crossentropy',\n",
        "              metrics=['accuracy'])\n",
        "deep_learning_model.fit(X_train, y_train, epochs=10)\n",
        "\n",
        "# Evaluate the model on the test set\n",
        "test_loss, test_acc = deep_learning_model.evaluate(X_test, y_test)\n",
        "print(f'Test accuracy: {test_acc}')"
      ]
    },
    {
      "cell_type": "code",
      "execution_count": null,
      "metadata": {
        "id": "aW9-2QOGz6Qt",
        "colab": {
          "base_uri": "https://localhost:8080/"
        },
        "outputId": "b13ff165-294c-4809-ebf2-506850d40fdd"
      },
      "outputs": [
        {
          "output_type": "stream",
          "name": "stdout",
          "text": [
            "313/313 [==============================] - 4s 11ms/step\n"
          ]
        },
        {
          "output_type": "execute_result",
          "data": {
            "text/plain": [
              "array([[4.97154891e-04, 4.74948647e-05, 1.80744100e-03, 6.78931296e-01,\n",
              "        2.55894211e-05, 2.33488172e-01, 1.59766674e-02, 1.00162806e-05,\n",
              "        6.92135990e-02, 2.61919968e-06],\n",
              "       [7.16042938e-04, 2.15515997e-02, 1.46748960e-07, 6.59881749e-08,\n",
              "        1.09060956e-08, 2.90732549e-09, 7.17666104e-09, 4.39877734e-09,\n",
              "        9.64078426e-01, 1.36536155e-02],\n",
              "       [1.44158930e-01, 3.57460290e-01, 1.16931449e-03, 9.06960457e-04,\n",
              "        3.39228107e-04, 2.85088681e-05, 1.22996920e-03, 5.71503733e-05,\n",
              "        4.09046590e-01, 8.56031030e-02]], dtype=float32)"
            ]
          },
          "metadata": {},
          "execution_count": 9
        }
      ],
      "source": [
        "y_pred = deep_learning_model.predict(X_test)\n",
        "y_pred[:3]"
      ]
    },
    {
      "cell_type": "code",
      "execution_count": null,
      "metadata": {
        "id": "PiIRViqO0LZk",
        "colab": {
          "base_uri": "https://localhost:8080/"
        },
        "outputId": "8253a66e-6e6e-4f22-a132-4a3f6ad6abf1"
      },
      "outputs": [
        {
          "output_type": "execute_result",
          "data": {
            "text/plain": [
              "[3, 8, 8, 0, 4]"
            ]
          },
          "metadata": {},
          "execution_count": 10
        }
      ],
      "source": [
        "y_predictions_class = [np.argmax(element) for element in y_pred] #np.argmax ile array şeklinde test ve tahmin sonucunu öğren\n",
        "y_predictions_class[:5]\n"
      ]
    },
    {
      "cell_type": "code",
      "source": [
        "y_test[:5]"
      ],
      "metadata": {
        "colab": {
          "base_uri": "https://localhost:8080/"
        },
        "id": "veM6LhM_1QCt",
        "outputId": "a57076d3-3828-401e-8896-8933207b4e0b"
      },
      "execution_count": null,
      "outputs": [
        {
          "output_type": "execute_result",
          "data": {
            "text/plain": [
              "array([3, 8, 8, 0, 6], dtype=uint8)"
            ]
          },
          "metadata": {},
          "execution_count": 11
        }
      ]
    },
    {
      "cell_type": "code",
      "execution_count": null,
      "metadata": {
        "id": "Cvgre7mG0ESb",
        "colab": {
          "base_uri": "https://localhost:8080/",
          "height": 272
        },
        "outputId": "ac6c23fd-dd54-47b9-adf6-6b33e47070d1"
      },
      "outputs": [
        {
          "output_type": "stream",
          "name": "stdout",
          "text": [
            "Real image: \n"
          ]
        },
        {
          "output_type": "display_data",
          "data": {
            "text/plain": [
              "<Figure size 1500x200 with 1 Axes>"
            ],
            "image/png": "[encoded data removed]"
          },
          "metadata": {}
        },
        {
          "output_type": "stream",
          "name": "stdout",
          "text": [
            "Prediction:  horse\n"
          ]
        }
      ],
      "source": [
        "k=5000\n",
        "print (\"Real image: \")\n",
        "plot_sample(X_test, y_test, k)\n",
        "\n",
        "print (\"Prediction: \" , image_class[y_predictions_class[k]])"
      ]
    },
    {
      "cell_type": "code",
      "source": [],
      "metadata": {
        "id": "vvdL-MpCRIg7"
      },
      "execution_count": null,
      "outputs": []
    },
    {
      "cell_type": "code",
      "source": [],
      "metadata": {
        "id": "VhQiSuNjtLqK"
      },
      "execution_count": null,
      "outputs": []
    },
    {
      "cell_type": "code",
      "source": [],
      "metadata": {
        "id": "aCSk1wg3tL9t"
      },
      "execution_count": null,
      "outputs": []
    },
    {
      "cell_type": "code",
      "source": [],
      "metadata": {
        "id": "ZENBJM6BtMDk"
      },
      "execution_count": null,
      "outputs": []
    }
  ],
  "metadata": {
    "colab": {
      "provenance": [],
      "authorship_tag": "ABX9TyOrh1DXa4FPMwVEQf6e6xHL",
      "include_colab_link": true
    },
    "kernelspec": {
      "display_name": "Python 3",
      "name": "python3"
    },
    "language_info": {
      "name": "python"
    }
  },
  "nbformat": 4,
  "nbformat_minor": 0
}